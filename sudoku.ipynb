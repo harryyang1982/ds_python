{
 "cells": [
  {
   "cell_type": "code",
   "execution_count": 1,
   "id": "3c946692",
   "metadata": {},
   "outputs": [],
   "source": [
    "def cross(A, B):\n",
    "    \"\"\"A 와 B 에 포함된 원소들의 교차곱 (cross product) 을 반환한다.\"\"\"\n",
    "    return [a+b for a in A for b in B]\n",
    "\n",
    "digits   = '123456789'\n",
    "rows     = 'ABCDEFGHI'\n",
    "cols     = digits\n",
    "squares  = cross(rows, cols)\n",
    "unitlist = ([cross(rows, c) for c in cols] + [cross(r, cols) for r in rows] +\n",
    "            [cross(rs, cs) for rs in ('ABC','DEF','GHI') for cs in ('123','456','789')])\n",
    "units = dict((s, [u for u in unitlist if s in u]) for s in squares)\n",
    "peers = dict((s, set(sum(units[s],[]))-set([s]))for s in squares)"
   ]
  },
  {
   "cell_type": "code",
   "execution_count": 2,
   "id": "5a12535f",
   "metadata": {},
   "outputs": [],
   "source": [
    "def test():\n",
    "    \"\"\"A set of unit tests.\"\"\"\n",
    "    assert len(squares) == 81\n",
    "    assert len(unitlist) == 27\n",
    "    assert all(len(units[s]) == 3 for s in squares)\n",
    "    assert all(len(peers[s]) == 20 for s in squares)\n",
    "    assert units['C2'] == [['A2', 'B2', 'C2', 'D2', 'E2', 'F2', 'G2', 'H2', 'I2'],\n",
    "                           ['C1', 'C2', 'C3', 'C4', 'C5', 'C6', 'C7', 'C8', 'C9'],\n",
    "                           ['A1', 'A2', 'A3', 'B1', 'B2', 'B3', 'C1', 'C2', 'C3']]\n",
    "    assert peers['C2'] == set(['A2', 'B2', 'D2', 'E2', 'F2', 'G2', 'H2', 'I2',\n",
    "                               'C1', 'C3', 'C4', 'C5', 'C6', 'C7', 'C8', 'C9',\n",
    "                               'A1', 'A3', 'B1', 'B3'])\n",
    "    print('All tests pass.')\n"
   ]
  },
  {
   "cell_type": "code",
   "execution_count": 3,
   "id": "34ce159c",
   "metadata": {},
   "outputs": [
    {
     "name": "stdout",
     "output_type": "stream",
     "text": [
      "All tests pass.\n"
     ]
    }
   ],
   "source": [
    "test()"
   ]
  },
  {
   "cell_type": "code",
   "execution_count": 4,
   "id": "085d0f8f",
   "metadata": {},
   "outputs": [],
   "source": [
    "def parse_grid(grid):\n",
    "    \"\"\"텍스트 형태로 구성된 grid 가 주어질 때 {칸 이름: 숫자 목록} 꼴의 사전 형태로 변환한다. \n",
    "    만약 모순이 있으면 False 를 반환한다.\"\"\"\n",
    "    # 처음에는 모든 칸이 어떤 숫자도 가질 수 있도록 하고, 숫자가 쓰인\n",
    "    # 칸을 발견할 때마다 해당 칸에 배정한다.\n",
    "    values = dict((s, digits) for s in squares)\n",
    "    for s,d in grid_values(grid).items():\n",
    "        if d in digits and not assign(values, s, d):\n",
    "            return False ## 칸 s 에 d 를 배정할 수 없는 경우.\n",
    "    return values\n",
    "    \n",
    "def grid_values(grid):\n",
    "    \"\"\"주어진 grid 를 {square: char} 형태의 사전으로 변환한다.\"\"\"\n",
    "    chars = [c for c in grid if c in digits or c in '0.']\n",
    "    assert len(chars) == 81\n",
    "    return dict(zip(squares, chars))\n"
   ]
  },
  {
   "cell_type": "code",
   "execution_count": 5,
   "id": "6b6830f8",
   "metadata": {},
   "outputs": [],
   "source": [
    "def assign(values, s, d):\n",
    "    \"\"\"values[s] 에서 d 를 제외한 모든 값을 지우고 제약 조건을 전파한 뒤,\n",
    "    변경된 values 를 반환한다. 만약 모순이 있으면 False 를 반환한다.\"\"\"\n",
    "    other_values = values[s].replace(d, '')\n",
    "    if all(eliminate(values, s, d2) for d2 in other_values):\n",
    "        return values\n",
    "    else:\n",
    "        return False\n",
    "\n",
    "def eliminate(values, s, d):\n",
    "    \"\"\"values[s] 에서 d 를 지운다. 만약 두 전략 중 하나에 해당하면\n",
    "    적절히 제약 조건을 전파하고, 변경된 values 를 반환한다. 만약 모순을\n",
    "    발견하면 False 를 반환한다.\"\"\"\n",
    "    if d not in values[s]:\n",
    "        return values ## 이미 지워진 경우\n",
    "    values[s] = values[s].replace(d,'')\n",
    "    ## 1. 어떤 빈 칸에 들어갈 수 있는 숫자가 하나밖에 없다면, 해당 칸의 이웃들에는 그 숫자가 들어갈 수 없다.\n",
    "    if len(values[s]) == 0:\n",
    "        return False ## 모순: 이제 s 에는 어떤 숫자도 들어갈 수 없다\n",
    "    elif len(values[s]) == 1:\n",
    "        d2 = values[s]\n",
    "        if not all(eliminate(values, s2, d2) for s2 in peers[s]):\n",
    "            return False\n",
    "    ## 2. 한 단위에 어떤 숫자가 들어갈 수 있는 칸이 하나밖에 없다면, 거기에 그 숫자를 쓴다.\n",
    "    for u in units[s]:\n",
    "        dplaces = [s for s in u if d in values[s]]\n",
    "    if len(dplaces) == 0:\n",
    "        return False ## 모순: d 는 이제 들어갈 자리가 없다\n",
    "    elif len(dplaces) == 1:\n",
    "            # d 는 이제 u 단위 중에 들어갈 수 있는 곳이 한 군데밖에 없다: 거기에 넣는다\n",
    "        if not assign(values, dplaces[0], d):\n",
    "            return False\n",
    "    return values\n"
   ]
  },
  {
   "cell_type": "code",
   "execution_count": 6,
   "id": "e3018b85",
   "metadata": {},
   "outputs": [],
   "source": [
    "def display(values):\n",
    "    \"values 가 주어질 때 2차원 격자 형태로 출력한다.\"\n",
    "    width = 1+max(len(values[s]) for s in squares)\n",
    "    line = '+'.join(['-'*(width*3)]*3)\n",
    "    for r in rows:\n",
    "        print(''.join(values[r+c].center(width)+('|' if c in '36' else '') for c in cols))\n",
    "        if r in 'CF': print(line)\n",
    "    print\n"
   ]
  },
  {
   "cell_type": "code",
   "execution_count": 7,
   "id": "4aa218eb",
   "metadata": {},
   "outputs": [],
   "source": [
    "grid1 = '003020600900305001001806400008102900700000008006708200002609500800203009005010300'"
   ]
  },
  {
   "cell_type": "code",
   "execution_count": 8,
   "id": "d9230474",
   "metadata": {},
   "outputs": [
    {
     "name": "stdout",
     "output_type": "stream",
     "text": [
      "4 8 3 |9 2 1 |6 5 7 \n",
      "9 6 7 |3 4 5 |8 2 1 \n",
      "2 5 1 |8 7 6 |4 9 3 \n",
      "------+------+------\n",
      "5 4 8 |1 3 2 |9 7 6 \n",
      "7 2 9 |5 6 4 |1 3 8 \n",
      "1 3 6 |7 9 8 |2 4 5 \n",
      "------+------+------\n",
      "3 7 2 |6 8 9 |5 1 4 \n",
      "8 1 4 |2 5 3 |7 6 9 \n",
      "6 9 5 |4 1 7 |3 8 2 \n"
     ]
    }
   ],
   "source": [
    "display(parse_grid(grid1))"
   ]
  },
  {
   "cell_type": "code",
   "execution_count": 9,
   "id": "83957637",
   "metadata": {},
   "outputs": [],
   "source": [
    "grid2 = '4.....8.5.3..........7......2.....6.....8.4......1.......6.3.7.5..2.....1.4......'"
   ]
  },
  {
   "cell_type": "code",
   "execution_count": 10,
   "id": "8a1b0fe7",
   "metadata": {},
   "outputs": [
    {
     "name": "stdout",
     "output_type": "stream",
     "text": [
      "   4      1679   12679  |  139     2369    269   |   8      1239     5    \n",
      " 26789     3    1256789 | 14589   24569   245689 | 12679    1249   124679 \n",
      "  2689   15689   125689 |   7     234569  245689 | 12369   12349   123469 \n",
      "------------------------+------------------------+------------------------\n",
      "  3789     2     15789  |  3459   34579    4579  | 13579     6     13789  \n",
      "  3679   15679   15679  |  359      8     25679  |   4     12359   12379  \n",
      " 36789     4     56789  |  359      1     25679  | 23579   23589   23789  \n",
      "------------------------+------------------------+------------------------\n",
      "  289      89     289   |   6      459      3    |  1259     7     12489  \n",
      "   5      6789     3    |   2      479      1    |   69     489     4689  \n",
      "   1      6789     4    |  589     579     5789  | 23569   23589   23689  \n"
     ]
    }
   ],
   "source": [
    "display(parse_grid(grid2))"
   ]
  },
  {
   "cell_type": "code",
   "execution_count": 11,
   "id": "55c58471",
   "metadata": {},
   "outputs": [],
   "source": [
    "def solve(grid): return search(parse_grid(grid))\n",
    "\n",
    "def search(values):\n",
    "    \"깊이 우선 탐색과 제약 조건 전파를 이용해 모든 값들을 하나하나 시도한다.\"\n",
    "    if values is False:\n",
    "        return False ## 호출 이전에 실패한 경우\n",
    "    if all(len(values[s]) == 1 for s in squares):\n",
    "        return values ## 해결 성공!\n",
    "    ## 아직 답을 못 찾은 칸 중 가장 후보의 수가 적은 칸 s 를 찾는다\n",
    "    n,s = min((len(values[s]), s) for s in squares if len(values[s]) > 1)\n",
    "    return some(search(assign(values.copy(), s, d))\n",
    "        for d in values[s])\n",
    "\n",
    "def some(seq):\n",
    "    \"seq 의 원소 중 False 가 아닌 것을 하나 반환한다.\"\n",
    "    for e in seq:\n",
    "        if e: return e\n",
    "    return False"
   ]
  },
  {
   "cell_type": "code",
   "execution_count": 12,
   "id": "9954885b",
   "metadata": {},
   "outputs": [],
   "source": [
    "hard1  = '.....6....59.....82....8....45........3........6..3.54...325..6..................'"
   ]
  },
  {
   "cell_type": "code",
   "execution_count": 13,
   "id": "dabb0b96",
   "metadata": {},
   "outputs": [],
   "source": [
    "from sudoku import *"
   ]
  },
  {
   "cell_type": "code",
   "execution_count": 14,
   "id": "a132dd15",
   "metadata": {},
   "outputs": [
    {
     "name": "stdout",
     "output_type": "stream",
     "text": [
      ". . . |. . 6 |. . . \n",
      ". 5 9 |. . . |. . 8 \n",
      "2 . . |. . 8 |. . . \n",
      "------+------+------\n",
      ". 4 5 |. . . |. . . \n",
      ". . 3 |. . . |. . . \n",
      ". . 6 |. . 3 |. 5 4 \n",
      "------+------+------\n",
      ". . . |3 2 5 |. . 6 \n",
      ". . . |. . . |. . . \n",
      ". . . |. . . |. . . \n",
      "4 3 8 |7 9 6 |2 1 5 \n",
      "6 5 9 |1 3 2 |4 7 8 \n",
      "2 7 1 |4 5 8 |6 9 3 \n",
      "------+------+------\n",
      "8 4 5 |2 1 9 |3 6 7 \n",
      "7 1 3 |5 6 4 |8 2 9 \n",
      "9 2 6 |8 7 3 |1 5 4 \n",
      "------+------+------\n",
      "1 9 4 |3 2 5 |7 8 6 \n",
      "3 6 2 |9 8 7 |5 4 1 \n",
      "5 8 7 |6 4 1 |9 3 2 \n",
      "(44.02 seconds)\n",
      "\n"
     ]
    }
   ],
   "source": [
    "solve_all([hard1]) "
   ]
  },
  {
   "cell_type": "code",
   "execution_count": null,
   "id": "1f19e484",
   "metadata": {},
   "outputs": [],
   "source": []
  }
 ],
 "metadata": {
  "kernelspec": {
   "display_name": "Python 3",
   "language": "python",
   "name": "python3"
  },
  "language_info": {
   "codemirror_mode": {
    "name": "ipython",
    "version": 3
   },
   "file_extension": ".py",
   "mimetype": "text/x-python",
   "name": "python",
   "nbconvert_exporter": "python",
   "pygments_lexer": "ipython3",
   "version": "3.8.8"
  }
 },
 "nbformat": 4,
 "nbformat_minor": 5
}
